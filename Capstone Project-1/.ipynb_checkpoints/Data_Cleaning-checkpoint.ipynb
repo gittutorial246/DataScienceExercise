{
 "cells": [
  {
   "cell_type": "markdown",
   "metadata": {},
   "source": [
    "# College Scorecard: Which college leads to better earnings - Data Cleaning\n",
    "Jeevarani Radhakrishnan<br>\n",
    "July 2019"
   ]
  },
  {
   "cell_type": "markdown",
   "metadata": {},
   "source": [
    "### Import the necessary packages and set the style sheet for this notebook\n",
    "Setting the stylesheet here to display the dataframe in a readable manner"
   ]
  },
  {
   "cell_type": "code",
   "execution_count": 601,
   "metadata": {},
   "outputs": [
    {
     "data": {
      "text/html": [
       "<style>\n",
       "\n",
       "table.dataframe td, table.dataframe th {\n",
       "    margin: 0;\n",
       "    border: 2px solid #ccf;\n",
       "   padding-left: 0.25em;\n",
       "    padding-right: 0.25em;\n",
       "}\n",
       "table.dataframe th:not(:empty) {\n",
       "    background-color: #90EE90;\n",
       "    text-align: left;\n",
       "    font-weight: normal;\n",
       "}\n",
       "table.dataframe td {\n",
       "    border: 2px solid #ccf;\n",
       "    background-color: #FFF8DC;\n",
       "}\n",
       "</style>"
      ],
      "text/plain": [
       "<IPython.core.display.HTML object>"
      ]
     },
     "execution_count": 601,
     "metadata": {},
     "output_type": "execute_result"
    }
   ],
   "source": [
    "import pandas as pd\n",
    "import glob\n",
    "import numpy as np\n",
    "import re\n",
    "%matplotlib inline\n",
    "from IPython.core.display import HTML\n",
    "css = open('data\\style-table.css').read() \n",
    "HTML('<style>{}</style>'.format(css))"
   ]
  },
  {
   "cell_type": "markdown",
   "metadata": {},
   "source": [
    "### Examine the data dictionary"
   ]
  },
  {
   "cell_type": "code",
   "execution_count": 602,
   "metadata": {},
   "outputs": [],
   "source": [
    "data_dictionary = pd.read_excel(\"data/CollegeScorecardDataDictionary.xlsx\",sheet_name='data_dictionary')\n",
    "cohort_map = pd.read_excel(\"data/CollegeScorecardDataDictionary.xlsx\",sheet_name='cohort_map')\n",
    "\n",
    "data_Details = data_dictionary.dropna(subset=['VARIABLE NAME']).iloc[:,[0,1,2,3,4]]\n",
    "data_Details.columns = ['Name','Category','DevName','DataType','VariableName']\n",
    "\n",
    "cohort_check = pd.merge(data_Details, cohort_map, left_on='VariableName',right_on = 'Variable Name').drop(['Variable Name'],axis=1)\n",
    "cols = [c for c in cohort_check.columns if c[0:9] != 'MERGED_19']\n",
    "# eliminate earlier cohorts\n",
    "cohort_2000 = cohort_check[cols]"
   ]
  },
  {
   "cell_type": "markdown",
   "metadata": {},
   "source": [
    "The analysis below is done to check which data set is relevant for our study. Based on the numbers, 2014 has most values for almost all categories, 2016 and 2017 do not have a lot of completion data. 2015, 2016 and 2017 does not have earnings data. Also rows before 2000 have very low non-null values.\n",
    "2014 have lesser school data but school data can also be taken from other data sets if needed. Hence 2014 is the dataset that will be considered for our analysis"
   ]
  },
  {
   "cell_type": "code",
   "execution_count": 603,
   "metadata": {},
   "outputs": [
    {
     "data": {
      "text/html": [
       "<div>\n",
       "<style scoped>\n",
       "    .dataframe tbody tr th:only-of-type {\n",
       "        vertical-align: middle;\n",
       "    }\n",
       "\n",
       "    .dataframe tbody tr th {\n",
       "        vertical-align: top;\n",
       "    }\n",
       "\n",
       "    .dataframe thead th {\n",
       "        text-align: right;\n",
       "    }\n",
       "</style>\n",
       "<table border=\"1\" class=\"dataframe\">\n",
       "  <thead>\n",
       "    <tr style=\"text-align: right;\">\n",
       "      <th></th>\n",
       "      <th>Name</th>\n",
       "      <th>DevName</th>\n",
       "      <th>DataType</th>\n",
       "      <th>VariableName</th>\n",
       "      <th>MERGED_2000-01 datafile</th>\n",
       "      <th>MERGED_2001-02 datafile</th>\n",
       "      <th>MERGED_2002-03 datafile</th>\n",
       "      <th>MERGED_2003-04 datafile</th>\n",
       "      <th>MERGED_2004-05 datafile</th>\n",
       "      <th>MERGED_2005-06 datafile</th>\n",
       "      <th>...</th>\n",
       "      <th>MERGED_2010-11 datafile</th>\n",
       "      <th>MERGED_2011-12 datafile</th>\n",
       "      <th>MERGED_2012-13 datafile</th>\n",
       "      <th>MERGED_2013-14 datafile</th>\n",
       "      <th>MERGED_2014-15 datafile</th>\n",
       "      <th>MERGED_2015-16 datafile</th>\n",
       "      <th>MERGED_2016-17 datafile</th>\n",
       "      <th>MERGED_2017-18 datafile</th>\n",
       "      <th>max</th>\n",
       "      <th>diff_2014</th>\n",
       "    </tr>\n",
       "    <tr>\n",
       "      <th>Category</th>\n",
       "      <th></th>\n",
       "      <th></th>\n",
       "      <th></th>\n",
       "      <th></th>\n",
       "      <th></th>\n",
       "      <th></th>\n",
       "      <th></th>\n",
       "      <th></th>\n",
       "      <th></th>\n",
       "      <th></th>\n",
       "      <th></th>\n",
       "      <th></th>\n",
       "      <th></th>\n",
       "      <th></th>\n",
       "      <th></th>\n",
       "      <th></th>\n",
       "      <th></th>\n",
       "      <th></th>\n",
       "      <th></th>\n",
       "      <th></th>\n",
       "      <th></th>\n",
       "    </tr>\n",
       "  </thead>\n",
       "  <tbody>\n",
       "    <tr>\n",
       "      <th>academics</th>\n",
       "      <td>247</td>\n",
       "      <td>247</td>\n",
       "      <td>247</td>\n",
       "      <td>247</td>\n",
       "      <td>241</td>\n",
       "      <td>241</td>\n",
       "      <td>241</td>\n",
       "      <td>241</td>\n",
       "      <td>241</td>\n",
       "      <td>241</td>\n",
       "      <td>...</td>\n",
       "      <td>247</td>\n",
       "      <td>247</td>\n",
       "      <td>247</td>\n",
       "      <td>247</td>\n",
       "      <td>247</td>\n",
       "      <td>247</td>\n",
       "      <td>247</td>\n",
       "      <td>247</td>\n",
       "      <td>247</td>\n",
       "      <td>0</td>\n",
       "    </tr>\n",
       "    <tr>\n",
       "      <th>admissions</th>\n",
       "      <td>25</td>\n",
       "      <td>25</td>\n",
       "      <td>25</td>\n",
       "      <td>25</td>\n",
       "      <td>0</td>\n",
       "      <td>19</td>\n",
       "      <td>19</td>\n",
       "      <td>19</td>\n",
       "      <td>19</td>\n",
       "      <td>19</td>\n",
       "      <td>...</td>\n",
       "      <td>25</td>\n",
       "      <td>25</td>\n",
       "      <td>25</td>\n",
       "      <td>25</td>\n",
       "      <td>25</td>\n",
       "      <td>25</td>\n",
       "      <td>19</td>\n",
       "      <td>19</td>\n",
       "      <td>25</td>\n",
       "      <td>0</td>\n",
       "    </tr>\n",
       "    <tr>\n",
       "      <th>completion</th>\n",
       "      <td>1214</td>\n",
       "      <td>1214</td>\n",
       "      <td>1214</td>\n",
       "      <td>1214</td>\n",
       "      <td>622</td>\n",
       "      <td>624</td>\n",
       "      <td>820</td>\n",
       "      <td>820</td>\n",
       "      <td>1016</td>\n",
       "      <td>1016</td>\n",
       "      <td>...</td>\n",
       "      <td>1050</td>\n",
       "      <td>1034</td>\n",
       "      <td>1034</td>\n",
       "      <td>1034</td>\n",
       "      <td>1034</td>\n",
       "      <td>1082</td>\n",
       "      <td>112</td>\n",
       "      <td>216</td>\n",
       "      <td>1082</td>\n",
       "      <td>-48</td>\n",
       "    </tr>\n",
       "    <tr>\n",
       "      <th>cost</th>\n",
       "      <td>77</td>\n",
       "      <td>77</td>\n",
       "      <td>77</td>\n",
       "      <td>77</td>\n",
       "      <td>9</td>\n",
       "      <td>9</td>\n",
       "      <td>9</td>\n",
       "      <td>9</td>\n",
       "      <td>9</td>\n",
       "      <td>9</td>\n",
       "      <td>...</td>\n",
       "      <td>71</td>\n",
       "      <td>47</td>\n",
       "      <td>47</td>\n",
       "      <td>47</td>\n",
       "      <td>47</td>\n",
       "      <td>47</td>\n",
       "      <td>47</td>\n",
       "      <td>47</td>\n",
       "      <td>71</td>\n",
       "      <td>-24</td>\n",
       "    </tr>\n",
       "    <tr>\n",
       "      <th>earnings</th>\n",
       "      <td>76</td>\n",
       "      <td>76</td>\n",
       "      <td>76</td>\n",
       "      <td>76</td>\n",
       "      <td>0</td>\n",
       "      <td>0</td>\n",
       "      <td>0</td>\n",
       "      <td>26</td>\n",
       "      <td>5</td>\n",
       "      <td>36</td>\n",
       "      <td>...</td>\n",
       "      <td>10</td>\n",
       "      <td>62</td>\n",
       "      <td>52</td>\n",
       "      <td>52</td>\n",
       "      <td>52</td>\n",
       "      <td>0</td>\n",
       "      <td>0</td>\n",
       "      <td>0</td>\n",
       "      <td>62</td>\n",
       "      <td>-10</td>\n",
       "    </tr>\n",
       "    <tr>\n",
       "      <th>root</th>\n",
       "      <td>5</td>\n",
       "      <td>5</td>\n",
       "      <td>5</td>\n",
       "      <td>5</td>\n",
       "      <td>3</td>\n",
       "      <td>3</td>\n",
       "      <td>3</td>\n",
       "      <td>3</td>\n",
       "      <td>3</td>\n",
       "      <td>3</td>\n",
       "      <td>...</td>\n",
       "      <td>3</td>\n",
       "      <td>3</td>\n",
       "      <td>3</td>\n",
       "      <td>3</td>\n",
       "      <td>3</td>\n",
       "      <td>3</td>\n",
       "      <td>3</td>\n",
       "      <td>5</td>\n",
       "      <td>5</td>\n",
       "      <td>-2</td>\n",
       "    </tr>\n",
       "    <tr>\n",
       "      <th>school</th>\n",
       "      <td>44</td>\n",
       "      <td>44</td>\n",
       "      <td>44</td>\n",
       "      <td>44</td>\n",
       "      <td>16</td>\n",
       "      <td>17</td>\n",
       "      <td>18</td>\n",
       "      <td>18</td>\n",
       "      <td>18</td>\n",
       "      <td>18</td>\n",
       "      <td>...</td>\n",
       "      <td>19</td>\n",
       "      <td>20</td>\n",
       "      <td>20</td>\n",
       "      <td>20</td>\n",
       "      <td>20</td>\n",
       "      <td>20</td>\n",
       "      <td>19</td>\n",
       "      <td>42</td>\n",
       "      <td>42</td>\n",
       "      <td>-22</td>\n",
       "    </tr>\n",
       "    <tr>\n",
       "      <th>student</th>\n",
       "      <td>113</td>\n",
       "      <td>113</td>\n",
       "      <td>113</td>\n",
       "      <td>113</td>\n",
       "      <td>52</td>\n",
       "      <td>68</td>\n",
       "      <td>55</td>\n",
       "      <td>68</td>\n",
       "      <td>59</td>\n",
       "      <td>72</td>\n",
       "      <td>...</td>\n",
       "      <td>63</td>\n",
       "      <td>64</td>\n",
       "      <td>63</td>\n",
       "      <td>64</td>\n",
       "      <td>63</td>\n",
       "      <td>64</td>\n",
       "      <td>63</td>\n",
       "      <td>36</td>\n",
       "      <td>72</td>\n",
       "      <td>-9</td>\n",
       "    </tr>\n",
       "  </tbody>\n",
       "</table>\n",
       "<p>8 rows × 24 columns</p>\n",
       "</div>"
      ],
      "text/plain": [
       "            Name  DevName  DataType  VariableName  MERGED_2000-01 datafile  \\\n",
       "Category                                                                     \n",
       "academics    247      247       247           247                      241   \n",
       "admissions    25       25        25            25                        0   \n",
       "completion  1214     1214      1214          1214                      622   \n",
       "cost          77       77        77            77                        9   \n",
       "earnings      76       76        76            76                        0   \n",
       "root           5        5         5             5                        3   \n",
       "school        44       44        44            44                       16   \n",
       "student      113      113       113           113                       52   \n",
       "\n",
       "            MERGED_2001-02 datafile  MERGED_2002-03 datafile  \\\n",
       "Category                                                       \n",
       "academics                       241                      241   \n",
       "admissions                       19                       19   \n",
       "completion                      624                      820   \n",
       "cost                              9                        9   \n",
       "earnings                          0                        0   \n",
       "root                              3                        3   \n",
       "school                           17                       18   \n",
       "student                          68                       55   \n",
       "\n",
       "            MERGED_2003-04 datafile  MERGED_2004-05 datafile  \\\n",
       "Category                                                       \n",
       "academics                       241                      241   \n",
       "admissions                       19                       19   \n",
       "completion                      820                     1016   \n",
       "cost                              9                        9   \n",
       "earnings                         26                        5   \n",
       "root                              3                        3   \n",
       "school                           18                       18   \n",
       "student                          68                       59   \n",
       "\n",
       "            MERGED_2005-06 datafile  ...  MERGED_2010-11 datafile  \\\n",
       "Category                             ...                            \n",
       "academics                       241  ...                      247   \n",
       "admissions                       19  ...                       25   \n",
       "completion                     1016  ...                     1050   \n",
       "cost                              9  ...                       71   \n",
       "earnings                         36  ...                       10   \n",
       "root                              3  ...                        3   \n",
       "school                           18  ...                       19   \n",
       "student                          72  ...                       63   \n",
       "\n",
       "            MERGED_2011-12 datafile  MERGED_2012-13 datafile  \\\n",
       "Category                                                       \n",
       "academics                       247                      247   \n",
       "admissions                       25                       25   \n",
       "completion                     1034                     1034   \n",
       "cost                             47                       47   \n",
       "earnings                         62                       52   \n",
       "root                              3                        3   \n",
       "school                           20                       20   \n",
       "student                          64                       63   \n",
       "\n",
       "            MERGED_2013-14 datafile  MERGED_2014-15 datafile  \\\n",
       "Category                                                       \n",
       "academics                       247                      247   \n",
       "admissions                       25                       25   \n",
       "completion                     1034                     1034   \n",
       "cost                             47                       47   \n",
       "earnings                         52                       52   \n",
       "root                              3                        3   \n",
       "school                           20                       20   \n",
       "student                          64                       63   \n",
       "\n",
       "            MERGED_2015-16 datafile  MERGED_2016-17 datafile  \\\n",
       "Category                                                       \n",
       "academics                       247                      247   \n",
       "admissions                       25                       19   \n",
       "completion                     1082                      112   \n",
       "cost                             47                       47   \n",
       "earnings                          0                        0   \n",
       "root                              3                        3   \n",
       "school                           20                       19   \n",
       "student                          64                       63   \n",
       "\n",
       "            MERGED_2017-18 datafile   max  diff_2014  \n",
       "Category                                              \n",
       "academics                       247   247          0  \n",
       "admissions                       19    25          0  \n",
       "completion                      216  1082        -48  \n",
       "cost                             47    71        -24  \n",
       "earnings                          0    62        -10  \n",
       "root                              5     5         -2  \n",
       "school                           42    42        -22  \n",
       "student                          36    72         -9  \n",
       "\n",
       "[8 rows x 24 columns]"
      ]
     },
     "execution_count": 603,
     "metadata": {},
     "output_type": "execute_result"
    }
   ],
   "source": [
    "count_by_cat = cohort_check.groupby('Category').agg('count')\n",
    "#total of all columns to check total non null values\n",
    "count_by_cat.sum(axis=0) #rows before 2000 have very low null values\n",
    "\n",
    "#remove 19's from the count dataframe\n",
    "cols = [c for c in count_by_cat.columns if c[0:9] != 'MERGED_19']\n",
    "count_by_cat= count_by_cat[cols]\n",
    "\n",
    "#maxvalues = count_by_cat.loc[:,~count_by_cat.columns.isin(['Name','DevName','DataType','VariableName'])].max(axis=1)\n",
    "#sum across columns \n",
    "count_by_cat[\"max\"] = count_by_cat.loc[:,'MERGED_2000-01 datafile':'MERGED_2017-18 datafile'].max(axis=1)\n",
    "\n",
    "count_by_cat[\"diff_2014\"] = count_by_cat['MERGED_2014-15 datafile'] - count_by_cat[\"max\"]\n",
    "#examine for everything other than repayment and aid categories\n",
    "count_by_cat.iloc[[0,1,3,4,5,7,8,9]]"
   ]
  },
  {
   "cell_type": "code",
   "execution_count": 604,
   "metadata": {},
   "outputs": [
    {
     "data": {
      "text/html": [
       "<div>\n",
       "<style scoped>\n",
       "    .dataframe tbody tr th:only-of-type {\n",
       "        vertical-align: middle;\n",
       "    }\n",
       "\n",
       "    .dataframe tbody tr th {\n",
       "        vertical-align: top;\n",
       "    }\n",
       "\n",
       "    .dataframe thead th {\n",
       "        text-align: right;\n",
       "    }\n",
       "</style>\n",
       "<table border=\"1\" class=\"dataframe\">\n",
       "  <thead>\n",
       "    <tr style=\"text-align: right;\">\n",
       "      <th></th>\n",
       "      <th>Name</th>\n",
       "      <th>DevName</th>\n",
       "      <th>VariableName</th>\n",
       "      <th>MERGED_2014-15 datafile</th>\n",
       "    </tr>\n",
       "  </thead>\n",
       "  <tbody>\n",
       "  </tbody>\n",
       "</table>\n",
       "</div>"
      ],
      "text/plain": [
       "Empty DataFrame\n",
       "Columns: [Name, DevName, VariableName, MERGED_2014-15 datafile]\n",
       "Index: []"
      ]
     },
     "execution_count": 604,
     "metadata": {},
     "output_type": "execute_result"
    }
   ],
   "source": [
    "#Examine Null values in 2014_2015 in detail\n",
    "\n",
    "cohort_2000[(cohort_2000.Category == 'completion') & (cohort_2000['MERGED_2014-15 datafile'].isnull())].iloc[:,[0,2,4,19]] #has nulls but is not required\n",
    "cohort_2000[(cohort_2000.Category == 'cost') & (cohort_2000['MERGED_2014-15 datafile'].isnull())].iloc[:,[0,2,4,19]] \n",
    "cohort_2000[(cohort_2000.Category == 'root') & (cohort_2000['MERGED_2014-15 datafile'].isnull())].iloc[:,[0,2,4,19]] # latitude and longitude is null\n",
    "cohort_2000[(cohort_2000.Category == 'school') & (cohort_2000['MERGED_2014-15 datafile'].isnull())].iloc[:,[0,2,4,19]] # there are some null columns but this can be pulled from other cohorts\n",
    "cohort_2000[(cohort_2000.Category == 'student') & (cohort_2000['MERGED_2014-15 datafile'].isnull())].iloc[:,[0,2,4,19]] # has null values but that will not affect our analysis\n",
    "cohort_2000[(cohort_2000.Category == 'admissions') & (cohort_2000['MERGED_2014-15 datafile'].isnull())].iloc[:,[0,2,4,19]] #all non null values\n"
   ]
  },
  {
   "cell_type": "markdown",
   "metadata": {},
   "source": [
    "### Read the 2014_15 dataset"
   ]
  },
  {
   "cell_type": "code",
   "execution_count": 605,
   "metadata": {},
   "outputs": [
    {
     "data": {
      "text/plain": [
       "(7703, 1977)"
      ]
     },
     "execution_count": 605,
     "metadata": {},
     "output_type": "execute_result"
    }
   ],
   "source": [
    "college_2014 = pd.read_csv('data\\MERGED2014_15_PP.csv', na_values='PrivacySuppressed',low_memory=False)\n",
    "college_2014.shape"
   ]
  },
  {
   "cell_type": "markdown",
   "metadata": {},
   "source": [
    "### Clean Up to remove unnecessary columns\n",
    "1. Remove colleges with highest degree as associate or certificate as our analysis is focused on Bachelors and Graduate program\n",
    "2. Remove columns will all null values"
   ]
  },
  {
   "cell_type": "code",
   "execution_count": 606,
   "metadata": {},
   "outputs": [
    {
     "name": "stdout",
     "output_type": "stream",
     "text": [
      "Before removing associate and certificate records:\n",
      "(7703, 1977)\n",
      "After removing associate and certificate records:\n"
     ]
    },
    {
     "data": {
      "text/plain": [
       "(2969, 1977)"
      ]
     },
     "execution_count": 606,
     "metadata": {},
     "output_type": "execute_result"
    }
   ],
   "source": [
    "print(\"Before removing associate and certificate records:\")\n",
    "print(college_2014.shape)\n",
    "print(\"After removing associate and certificate records:\")\n",
    "# use ICLevel instead of HIGHDEG\n",
    "college_2014 = college_2014[(college_2014.ICLEVEL == 1) & (college_2014.HIGHDEG.isin([3,4]))]\n",
    "college_2014.shape"
   ]
  },
  {
   "cell_type": "markdown",
   "metadata": {},
   "source": [
    "### Change the column data type\n",
    "1. Update column data type to categorical wherever appropriate\n",
    "2. Update column data type to numeric wherever appropriate"
   ]
  },
  {
   "cell_type": "code",
   "execution_count": 607,
   "metadata": {},
   "outputs": [
    {
     "name": "stdout",
     "output_type": "stream",
     "text": [
      "Before setting Categorical column type\n",
      "<class 'pandas.core.frame.DataFrame'>\n",
      "Int64Index: 2969 entries, 0 to 7273\n",
      "Columns: 1977 entries, UNITID to OMENRUP_PARTTIME_POOLED_SUPP\n",
      "dtypes: float64(1953), int64(11), object(13)\n",
      "memory usage: 44.8+ MB\n",
      "None\n",
      "<class 'pandas.core.frame.DataFrame'>\n",
      "Int64Index: 2969 entries, 0 to 7273\n",
      "Columns: 1977 entries, UNITID to OMENRUP_PARTTIME_POOLED_SUPP\n",
      "dtypes: category(212), float64(1747), int64(5), object(13)\n",
      "memory usage: 40.6+ MB\n",
      "Wall time: 5.31 s\n"
     ]
    }
   ],
   "source": [
    "%%time\n",
    "cat_index = ['MAIN','PREDDEG','HIGHDEG','CONTROL','ST_FIPS','REGION','LOCALE','LOCALE2','CCBASIC','CCUGPROF','CCSIZSET',\n",
    "             'HBCU','PBI','ANNHI','TRIBAL','AANAPII','HSI','NANTI','MENONLY','WOMENONLY','RELAFFIL','DISTANCEONLY']\n",
    "\n",
    "pattern = re.compile('CIP\\d+.')\n",
    "\n",
    "cip_columns = [col for col in college_2014.columns if ((bool(pattern.match(col)) == True)  | (col in cat_index))]\n",
    "\n",
    "print(\"Before setting Categorical column type\")\n",
    "print(college_2014.info())\n",
    "\n",
    "college_2014[cat_col_list] = college_2014[cip_columns].astype('category')\n",
    "college_2014.info()"
   ]
  },
  {
   "cell_type": "code",
   "execution_count": 608,
   "metadata": {},
   "outputs": [
    {
     "name": "stdout",
     "output_type": "stream",
     "text": [
      "<class 'pandas.core.frame.DataFrame'>\n",
      "Int64Index: 2969 entries, 0 to 7273\n",
      "Columns: 1977 entries, UNITID to OMENRUP_PARTTIME_POOLED_SUPP\n",
      "dtypes: category(212), float64(1750), int64(2), object(13)\n",
      "memory usage: 40.6+ MB\n",
      "Wall time: 258 ms\n"
     ]
    }
   ],
   "source": [
    "%%time\n",
    "numeric_dtypes = (data_Details[(data_Details.DataType.isin(['integer','float'])) & ~(data_Details.VariableName.isin(cat_index)) & (data_Details.VariableName.isin(college_2014.columns))]['VariableName'])\n",
    "\n",
    "dict_types = {i:type(3.5) for i in numeric_dtypes}\n",
    "college_2014 = college_2014.astype(dict_types)\n",
    "#college_2014[numeric_dtypes] = college_2014[numeric_dtypes].apply(pd.to_numeric, errors = 'coerce')\n",
    "college_2014.info()"
   ]
  },
  {
   "cell_type": "code",
   "execution_count": 609,
   "metadata": {},
   "outputs": [
    {
     "name": "stdout",
     "output_type": "stream",
     "text": [
      "The count of columns with all null values:  364\n",
      "Is there columns with all null values after removing them?\n"
     ]
    },
    {
     "data": {
      "text/plain": [
       "False"
      ]
     },
     "execution_count": 609,
     "metadata": {},
     "output_type": "execute_result"
    }
   ],
   "source": [
    "print(\"The count of columns with all null values: \",college_2014.isna().all().value_counts().loc[True]) #1977 columns\n",
    "#drop all the columns with all null values\n",
    "college_2014 = college_2014.dropna(how='all',axis='columns')\n",
    "print(\"Is there columns with all null values after removing them?\")\n",
    "True in college_2014.isna().all().value_counts()"
   ]
  },
  {
   "cell_type": "markdown",
   "metadata": {},
   "source": [
    "### Set the UNITID as index"
   ]
  },
  {
   "cell_type": "code",
   "execution_count": 610,
   "metadata": {},
   "outputs": [
    {
     "name": "stdout",
     "output_type": "stream",
     "text": [
      "check if there are duplicate UNITIDs\n",
      "False    2969\n",
      "dtype: int64\n",
      "<class 'pandas.core.frame.DataFrame'>\n",
      "Int64Index: 2969 entries, 100654 to 485290\n",
      "Columns: 1612 entries, OPEID to MTHCMP6\n",
      "dtypes: category(197), float64(1398), int64(4), object(13)\n",
      "memory usage: 32.7+ MB\n"
     ]
    }
   ],
   "source": [
    "print(\"check if there are duplicate UNITIDs\")\n",
    "print((college_2014.duplicated(subset=['UNITID'], keep='first')).value_counts())\n",
    "college_2014.set_index(['UNITID'],inplace=True)\n",
    "college_2014.info()"
   ]
  },
  {
   "cell_type": "markdown",
   "metadata": {},
   "source": [
    "### Create Column Counts Dataframe"
   ]
  },
  {
   "cell_type": "code",
   "execution_count": 611,
   "metadata": {},
   "outputs": [],
   "source": [
    "def return_counts(college):\n",
    "    counts_c = college.count().sort_values().to_frame().reset_index()\n",
    "    counts_c.columns = ['VariableName','NumValues']\n",
    "    \n",
    "    counts_c = pd.merge(data_Details,counts_c, left_on='VariableName',right_on='VariableName').iloc[:,[0,1,2,4,5]]\n",
    "    return counts_c"
   ]
  },
  {
   "cell_type": "code",
   "execution_count": 612,
   "metadata": {},
   "outputs": [
    {
     "name": "stdout",
     "output_type": "stream",
     "text": [
      "(2969, 1612)\n",
      "(2969, 1319)\n"
     ]
    }
   ],
   "source": [
    "print(college_2014.shape)\n",
    "\n",
    "counts_check = return_counts(college_2014)\n",
    "   \n",
    "list(counts_check[counts_check.NumValues <500]['VariableName'])\n",
    "college_2014 = college_2014.drop(list(counts_check[counts_check.NumValues <500]['VariableName']),axis=1)\n",
    "print(college_2014.shape)\n",
    "\n",
    "#recalculate counts after dropping\n",
    "counts_check = return_counts(college_2014)"
   ]
  },
  {
   "cell_type": "markdown",
   "metadata": {},
   "source": [
    "### 1. REPAYMENT and AID\n",
    "\n",
    "Repayment and aid categories are not required for our study. Hence these two categories are dropped"
   ]
  },
  {
   "cell_type": "code",
   "execution_count": 613,
   "metadata": {},
   "outputs": [
    {
     "data": {
      "text/plain": [
       "(2969, 1151)"
      ]
     },
     "execution_count": 613,
     "metadata": {},
     "output_type": "execute_result"
    }
   ],
   "source": [
    "repaymentaid_col = list(counts_check[counts_check.Category.isin(['repayment','aid'])]['VariableName'])\n",
    "\n",
    "college_2014 = college_2014.drop(repaymentaid_col,axis=1)\n",
    "college_2014.shape\n"
   ]
  },
  {
   "cell_type": "markdown",
   "metadata": {},
   "source": [
    "### 2. EARNINGS\n",
    "<b>Drawbacks with earnings data:</b>\n",
    "1. Data is not yet available to produce program-level earnings data. Research suggests that the variation across programs within an institution may be even greater than aggregate earnings across institutions; for instance, STEM and health majors frequently earn more than students who study in other fields. \n",
    "2. Also the data include only Title IV-receiving students, so figures may not be representative of institutions with a low proportion of Title IV-eligible students.\n",
    "\n",
    "<b>Data Cleaning:</b>\n",
    "6yrs data and 10yrs data have most non null values. These measures will be retained from 6yr and 10yr for the analysis:\n",
    "1. Mean earnings of male/female students working and also the count\n",
    "2. Mean/Median/Std Deviation of students working and also the count\n",
    "3. Mean earnings of students working and also the count\n",
    "4. Share of students earning over 28k/year\n",
    "5. number of students not working\n"
   ]
  },
  {
   "cell_type": "code",
   "execution_count": 614,
   "metadata": {},
   "outputs": [
    {
     "name": "stdout",
     "output_type": "stream",
     "text": [
      "(2969, 1151)\n"
     ]
    },
    {
     "data": {
      "text/plain": [
       "['MD_EARN_WNE_P10',\n",
       " 'PCT25_EARN_WNE_P10',\n",
       " 'PCT75_EARN_WNE_P10',\n",
       " 'SD_EARN_WNE_P10',\n",
       " 'COUNT_WNE_INDEP0_P10',\n",
       " 'COUNT_WNE_INDEP1_P10',\n",
       " 'MN_EARN_WNE_INDEP0_P10',\n",
       " 'MN_EARN_WNE_INDEP1_P10',\n",
       " 'MD_EARN_WNE_P6',\n",
       " 'PCT25_EARN_WNE_P6',\n",
       " 'PCT75_EARN_WNE_P6',\n",
       " 'SD_EARN_WNE_P6',\n",
       " 'COUNT_WNE_INDEP0_P6',\n",
       " 'COUNT_WNE_INDEP1_P6',\n",
       " 'MN_EARN_WNE_INDEP0_P6',\n",
       " 'MN_EARN_WNE_INDEP1_P6',\n",
       " 'COUNT_NWNE_P8',\n",
       " 'COUNT_WNE_P8',\n",
       " 'MN_EARN_WNE_P8',\n",
       " 'MD_EARN_WNE_P8',\n",
       " 'PCT25_EARN_WNE_P8',\n",
       " 'PCT75_EARN_WNE_P8',\n",
       " 'SD_EARN_WNE_P8',\n",
       " 'GT_28K_P8']"
      ]
     },
     "execution_count": 614,
     "metadata": {},
     "output_type": "execute_result"
    }
   ],
   "source": [
    "print(college_2014.shape)\n",
    "#examine the earnings col\n",
    "counts_check[counts_check.Category == 'earnings'].sort_values(by='NumValues')\n",
    "earnings_col = list(counts_check[(counts_check.Category == 'earnings') & (counts_check.VariableName.str.contains('P8|INDEP|PCT|MD|SD'))]['VariableName'])\n",
    "earnings_col"
   ]
  },
  {
   "cell_type": "code",
   "execution_count": 615,
   "metadata": {},
   "outputs": [
    {
     "name": "stdout",
     "output_type": "stream",
     "text": [
      "(2969, 1151)\n",
      "(2969, 1127)\n"
     ]
    }
   ],
   "source": [
    "print(college_2014.shape)\n",
    "#examine the earnings col\n",
    "counts_check[counts_check.Category == 'earnings'].sort_values(by='NumValues')\n",
    "\n",
    "earnings_col = list(counts_check[(counts_check.Category == 'earnings') & (counts_check.VariableName.str.contains('P8|INDEP|PCT|MD|SD'))]['VariableName'])\n",
    "\n",
    "college_2014 = college_2014.drop(earnings_col,axis=1)\n",
    "\n",
    "print(college_2014.shape)"
   ]
  },
  {
   "cell_type": "markdown",
   "metadata": {},
   "source": [
    "### 3. STUDENT\n",
    "The students' self report race and gender data will be retained for the analysis. The number of degree seeking undergraduates, average age of entry and number of graduate students are also retained.\n"
   ]
  },
  {
   "cell_type": "code",
   "execution_count": 616,
   "metadata": {},
   "outputs": [
    {
     "data": {
      "text/plain": [
       "(2969, 1085)"
      ]
     },
     "execution_count": 616,
     "metadata": {},
     "output_type": "execute_result"
    }
   ],
   "source": [
    "stud_col = list(counts_check[(counts_check.Category == 'student') & ~counts_check.VariableName.str.startswith('INC_PCT') & ~counts_check.DevName.str.contains('age_entry|size|grad_students|race_ethni|demographics.men|demographics.women')]['VariableName'])\n",
    "\n",
    "college_2014 = college_2014.drop(stud_col,axis=1)\n",
    "college_2014.shape\n"
   ]
  },
  {
   "cell_type": "markdown",
   "metadata": {},
   "source": [
    "### 4. ADMISSIONS\n",
    "Only the SAT AVG OVERALL and SAT Averages by OPEID will be retained. The ACT scores have large null values.\n"
   ]
  },
  {
   "cell_type": "code",
   "execution_count": 617,
   "metadata": {},
   "outputs": [],
   "source": [
    "pd.options.display.max_rows=1000\n",
    "\n",
    "#remove all the admissions columns except SAT average and SAT avegerage overall and admission rates. Because ACT scores has more null values\n",
    "admissions_col = list(counts_check[(counts_check.Category == 'admissions') & (~counts_check.VariableName.isin(['SAT_AVG','SAT_AVG_ALL','ADM_RATE','ADM_RATE_ALL']))]['VariableName'])\n",
    "college_2014 = college_2014.drop(admissions_col,axis=1)"
   ]
  },
  {
   "cell_type": "markdown",
   "metadata": {},
   "source": [
    "### 5. COMPLETION\n",
    "Only Title IV completion numbers will be retained since the earnings are reported for only Title IV students"
   ]
  },
  {
   "cell_type": "code",
   "execution_count": 618,
   "metadata": {},
   "outputs": [
    {
     "name": "stdout",
     "output_type": "stream",
     "text": [
      "(2969, 417)\n"
     ]
    }
   ],
   "source": [
    "# Remove title iv columns that are not required\n",
    "titleiv_col = list(counts_check[(counts_check.Category == 'completion') & counts_check.DevName.str.contains('title_iv') & counts_check.DevName.str.contains('transf|unknown|died|pell|first_gen|loan|depend|enrolled|withdrawn')]['VariableName'])\n",
    "\n",
    "college_2014 = college_2014.drop(titleiv_col,axis=1)\n",
    "\n",
    "#recrete the counts\n",
    "counts_check = return_counts(college_2014)\n",
    "\n",
    "#Remove completion columns that are not required\n",
    "compl_col = list(counts_check[counts_check.Category.isin(['completion']) & counts_check.DevName.str.contains('dependent|pell|loan|first_gen|separation|transfer')]['VariableName'])\n",
    "\n",
    "college_2014 = college_2014.drop(compl_col,axis=1)\n",
    "print(college_2014.shape)\n",
    "\n",
    "#recrete the counts\n",
    "counts_check = return_counts(college_2014)\n"
   ]
  },
  {
   "cell_type": "code",
   "execution_count": 619,
   "metadata": {},
   "outputs": [
    {
     "data": {
      "text/html": [
       "<div>\n",
       "<style scoped>\n",
       "    .dataframe tbody tr th:only-of-type {\n",
       "        vertical-align: middle;\n",
       "    }\n",
       "\n",
       "    .dataframe tbody tr th {\n",
       "        vertical-align: top;\n",
       "    }\n",
       "\n",
       "    .dataframe thead th {\n",
       "        text-align: right;\n",
       "    }\n",
       "</style>\n",
       "<table border=\"1\" class=\"dataframe\">\n",
       "  <thead>\n",
       "    <tr style=\"text-align: right;\">\n",
       "      <th></th>\n",
       "      <th>Name</th>\n",
       "      <th>DevName</th>\n",
       "      <th>VariableName</th>\n",
       "      <th>NumValues</th>\n",
       "      <th>CatName</th>\n",
       "    </tr>\n",
       "  </thead>\n",
       "  <tbody>\n",
       "    <tr>\n",
       "      <th>294</th>\n",
       "      <td>Completion rate for first-time, full-time students at four-year institutions (150% of expected time to completion)</td>\n",
       "      <td>completion_rate_4yr_150nt</td>\n",
       "      <td>C150_4</td>\n",
       "      <td>2433</td>\n",
       "      <td>n_rate_4yr_</td>\n",
       "    </tr>\n",
       "    <tr>\n",
       "      <th>295</th>\n",
       "      <td>Adjusted cohort count for completion rate at four-year institutions (denominator of 150% completion rate)</td>\n",
       "      <td>completion_cohort_4yr_150nt</td>\n",
       "      <td>D150_4</td>\n",
       "      <td>2433</td>\n",
       "      <td>n_cohort_4yr_</td>\n",
       "    </tr>\n",
       "    <tr>\n",
       "      <th>296</th>\n",
       "      <td>Completion rate for first-time, full-time students at four-year institutions (150% of expected time to completion) for white students</td>\n",
       "      <td>completion_rate_4yr_150_white</td>\n",
       "      <td>C150_4_WHITE</td>\n",
       "      <td>2317</td>\n",
       "      <td>n_rate_4yr_150_</td>\n",
       "    </tr>\n",
       "    <tr>\n",
       "      <th>297</th>\n",
       "      <td>Completion rate for first-time, full-time students at four-year institutions (150% of expected time to completion) for black students</td>\n",
       "      <td>completion_rate_4yr_150_black</td>\n",
       "      <td>C150_4_BLACK</td>\n",
       "      <td>2157</td>\n",
       "      <td>n_rate_4yr_150_</td>\n",
       "    </tr>\n",
       "    <tr>\n",
       "      <th>298</th>\n",
       "      <td>Completion rate for first-time, full-time students at four-year institutions (150% of expected time to completion) for Hispanic students</td>\n",
       "      <td>completion_rate_4yr_150_hispanic</td>\n",
       "      <td>C150_4_HISP</td>\n",
       "      <td>2175</td>\n",
       "      <td>n_rate_4yr_150_his</td>\n",
       "    </tr>\n",
       "  </tbody>\n",
       "</table>\n",
       "</div>"
      ],
      "text/plain": [
       "                                                                                                                                         Name  \\\n",
       "294                        Completion rate for first-time, full-time students at four-year institutions (150% of expected time to completion)   \n",
       "295                                 Adjusted cohort count for completion rate at four-year institutions (denominator of 150% completion rate)   \n",
       "296     Completion rate for first-time, full-time students at four-year institutions (150% of expected time to completion) for white students   \n",
       "297     Completion rate for first-time, full-time students at four-year institutions (150% of expected time to completion) for black students   \n",
       "298  Completion rate for first-time, full-time students at four-year institutions (150% of expected time to completion) for Hispanic students   \n",
       "\n",
       "                              DevName  VariableName  NumValues  \\\n",
       "294         completion_rate_4yr_150nt        C150_4       2433   \n",
       "295       completion_cohort_4yr_150nt        D150_4       2433   \n",
       "296     completion_rate_4yr_150_white  C150_4_WHITE       2317   \n",
       "297     completion_rate_4yr_150_black  C150_4_BLACK       2157   \n",
       "298  completion_rate_4yr_150_hispanic   C150_4_HISP       2175   \n",
       "\n",
       "                CatName  \n",
       "294         n_rate_4yr_  \n",
       "295       n_cohort_4yr_  \n",
       "296     n_rate_4yr_150_  \n",
       "297     n_rate_4yr_150_  \n",
       "298  n_rate_4yr_150_his  "
      ]
     },
     "execution_count": 619,
     "metadata": {},
     "output_type": "execute_result"
    }
   ],
   "source": [
    "#recheck titleiv columns\n",
    "pd.set_option('mode.chained_assignment', None)\n",
    "\n",
    "titleiv = counts_check[counts_check.Category == 'completion']\n",
    "titleiv['CatName'] = titleiv['DevName'].str[:-5].str[9:]\n",
    "titleiv['time'] = titleiv['DevName'].str[-4:]\n",
    "titleiv = titleiv.iloc[:,[0,2,3,4,5]]\n",
    "\n",
    "pd.reset_option('mode.chained_assignment')\n",
    "titleiv.head()"
   ]
  },
  {
   "cell_type": "markdown",
   "metadata": {},
   "source": [
    "### 6. ACADEMICS\n",
    "The CERTIFICATE and ASSOCIATE information can be removed as the analysis is focussed on "
   ]
  },
  {
   "cell_type": "code",
   "execution_count": 620,
   "metadata": {},
   "outputs": [
    {
     "data": {
      "text/plain": [
       "(2969, 265)"
      ]
     },
     "execution_count": 620,
     "metadata": {},
     "output_type": "execute_result"
    }
   ],
   "source": [
    "#Exploring using RE for removing columns\n",
    "pattern = re.compile(r'CIP\\d+[CERTASSOC].')\n",
    "#academics_col = list(counts_check[(counts_check.Category == 'academics') & (counts_check.VariableName.str.contains('CERT|ASSOC'))]['VariableName'])\n",
    "cip_columns = [col for col in college_2014.columns if bool(pattern.match(col)) == True]\n",
    "\n",
    "college_2014 = college_2014.drop(cip_columns, axis=1)\n",
    "college_2014.shape"
   ]
  },
  {
   "cell_type": "markdown",
   "metadata": {},
   "source": [
    "### 6. COST\n",
    "Merge the public and private columns as they are mutually exclusive. Remove private columns and then rename public columns to a generic column name."
   ]
  },
  {
   "cell_type": "code",
   "execution_count": 621,
   "metadata": {},
   "outputs": [],
   "source": [
    "def privpub_combine(pubpattern, privpattern):\n",
    "    pattern = re.compile(pubpattern)\n",
    "    global college_2014\n",
    "    npt_pubcolumns = [col for col in college_2014.columns if bool(pattern.match(col)) == True]\n",
    "    pattern = re.compile(privpattern)\n",
    "    npt_privcolumns = [col for col in college_2014.columns if bool(pattern.match(col)) == True]\n",
    "\n",
    "    college_2014[\"sum_pub\"] = college_2014[npt_pubcolumns].sum(axis=1)\n",
    "    college_2014[\"sum_priv\"] = college_2014[npt_privcolumns].sum(axis=1)\n",
    "\n",
    "    #private columns are not present for public controls\n",
    "    college_2014[(college_2014.sum_priv !=0) & (college_2014.CONTROL == 1)]\n",
    "    #public columns are not present for private controls\n",
    "    college_2014[(college_2014.sum_pub !=0) & ((college_2014.CONTROL == 3) | (college_2014.CONTROL == 2))]\n",
    "    \n",
    "    #so copy public count to private columns\n",
    "    for pubcolumn,privcolumn  in zip(npt_pubcolumns, npt_privcolumns):\n",
    "        college_2014[pubcolumn].fillna(college_2014[privcolumn],inplace=True)# = college_2014[privcolumn] + college_2014[pubcolumn]\n",
    "        college_2014.rename(columns={pubcolumn: pubcolumn[0:-4]},inplace=True)\n",
    "\n",
    "    college_2014 = college_2014.drop([\"sum_priv\",\"sum_pub\"],axis=1)    \n",
    "    college_2014 = college_2014.drop(npt_privcolumns, axis=1)\n",
    "    print(college_2014.shape)\n",
    "    data_Details.loc[data_Details.VariableName.isin(npt_pubcolumns),\"DevName\"] = data_Details.loc[data_Details.VariableName.isin(npt_pubcolumns),\"DevName\"].str.replace(\"public\",\"pubpriv\")\n",
    "    data_Details.loc[data_Details.VariableName.isin(npt_pubcolumns),\"Name\"] = data_Details.loc[data_Details.VariableName.isin(npt_pubcolumns),\"Name\"].str.replace(\"public\",\"pubpriv\")\n",
    "\n",
    "    data_Details.loc[data_Details.VariableName.isin(npt_pubcolumns),\"VariableName\"] = data_Details.loc[data_Details.VariableName.isin(npt_pubcolumns),\"VariableName\"].str[0:-4]"
   ]
  },
  {
   "cell_type": "code",
   "execution_count": 622,
   "metadata": {},
   "outputs": [
    {
     "name": "stdout",
     "output_type": "stream",
     "text": [
      "(2969, 256)\n",
      "(2969, 250)\n"
     ]
    }
   ],
   "source": [
    "privpub_combine('NPT4.*PUB','NPT4.*PRIV')\n",
    "privpub_combine('NUM4.*PUB','NUM4.*PRIV')"
   ]
  },
  {
   "cell_type": "markdown",
   "metadata": {},
   "source": [
    "### 7. Analyze other categories\n",
    "<b>Root: </b> This will be needed<br>\n",
    "<b>School: </b> This will be needed<br>"
   ]
  },
  {
   "cell_type": "code",
   "execution_count": 623,
   "metadata": {},
   "outputs": [
    {
     "data": {
      "text/plain": [
       "(417, 5)"
      ]
     },
     "execution_count": 623,
     "metadata": {},
     "output_type": "execute_result"
    }
   ],
   "source": [
    "pd.set_option('max_colwidth', 230)\n",
    "\n",
    "counts_check[counts_check.Category == 'root'].sort_values(by='NumValues') #root column has two non-null values\n",
    "counts_check[counts_check.Category == 'school'].sort_values(by='NumValues') #school has several non null columns\n",
    "counts_check.shape"
   ]
  },
  {
   "cell_type": "code",
   "execution_count": 624,
   "metadata": {},
   "outputs": [
    {
     "data": {
      "text/plain": [
       "(2969, 248)"
      ]
     },
     "execution_count": 624,
     "metadata": {},
     "output_type": "execute_result"
    }
   ],
   "source": [
    "college_2014[\"ZIP\"] = college_2014[\"ZIP\"].str[0:5]\n",
    "college_2014[\"ZIP\"] = college_2014[\"ZIP\"].apply(pd.to_numeric, errors = 'coerce')\n",
    "college_2014 = college_2014.drop(['SCH_DEG','ST_FIPS'],axis=1)\n",
    "college_2014.shape"
   ]
  },
  {
   "cell_type": "code",
   "execution_count": 625,
   "metadata": {},
   "outputs": [],
   "source": [
    "pd.set_option('mode.chained_assignment', None)\n",
    "lookup_value = data_dictionary.iloc[:,[4,5,6]]\n",
    "lookup_value.columns = ['VariableName','Value','Label']\n",
    "lookup_value.loc[:,\"VariableName\"] = lookup_value.loc[:,\"VariableName\"].fillna(method='ffill')\n",
    "category_col = ['MAIN','PREDDEG','HIGHDEG','CONTROL','ST_FIPS','REGION','DISTANCEONLY','ICLEVEL','OPENADMP']\n",
    "\n",
    "\n",
    "pd.reset_option('mode.chained_assignment')\n",
    "\n",
    "lookups = lookup_value[lookup_value['VariableName'].isin(category_col)]\n",
    "#lookup_value#.head()"
   ]
  },
  {
   "cell_type": "code",
   "execution_count": 626,
   "metadata": {},
   "outputs": [],
   "source": [
    "writer = pd.ExcelWriter('data\\Scorecard_2014_15.xlsx',engine = 'xlsxwriter')\n",
    "counts_check = return_counts(college_2014).sort_values([\"Category\",\"DevName\"])\n",
    "college_2014 = college_2014.reset_index()\n",
    "college_2014.to_excel(writer,sheet_name='Cleaned Data',index=False)\n",
    "counts_check.to_excel(writer,sheet_name='Data Dictionary', index=False)\n",
    "lookups.to_excel(writer,sheet_name='Look Up',index=False)\n",
    "writer.save()\n",
    "writer.close()"
   ]
  },
  {
   "cell_type": "code",
   "execution_count": 627,
   "metadata": {},
   "outputs": [],
   "source": [
    "# Order columns in order of groups, change categorical numbers to values"
   ]
  },
  {
   "cell_type": "code",
   "execution_count": null,
   "metadata": {},
   "outputs": [],
   "source": []
  },
  {
   "cell_type": "code",
   "execution_count": null,
   "metadata": {},
   "outputs": [],
   "source": []
  }
 ],
 "metadata": {
  "kernelspec": {
   "display_name": "Python 3",
   "language": "python",
   "name": "python3"
  },
  "language_info": {
   "codemirror_mode": {
    "name": "ipython",
    "version": 3
   },
   "file_extension": ".py",
   "mimetype": "text/x-python",
   "name": "python",
   "nbconvert_exporter": "python",
   "pygments_lexer": "ipython3",
   "version": "3.7.3"
  }
 },
 "nbformat": 4,
 "nbformat_minor": 2
}
